{
  "nbformat": 4,
  "nbformat_minor": 0,
  "metadata": {
    "colab": {
      "provenance": [],
      "authorship_tag": "ABX9TyPrbnbBa5z30uiGsm9k19Lz",
      "include_colab_link": true
    },
    "kernelspec": {
      "name": "python3",
      "display_name": "Python 3"
    },
    "language_info": {
      "name": "python"
    }
  },
  "cells": [
    {
      "cell_type": "markdown",
      "metadata": {
        "id": "view-in-github",
        "colab_type": "text"
      },
      "source": [
        "<a href=\"https://colab.research.google.com/github/jbm222/ListExercise/blob/main/List_Exercise.ipynb\" target=\"_parent\"><img src=\"https://colab.research.google.com/assets/colab-badge.svg\" alt=\"Open In Colab\"/></a>"
      ]
    },
    {
      "cell_type": "code",
      "execution_count": 25,
      "metadata": {
        "colab": {
          "base_uri": "https://localhost:8080/"
        },
        "id": "SIju5nmnz4v_",
        "outputId": "d36b2144-eaeb-477a-8b08-a4fc7b518b68"
      },
      "outputs": [
        {
          "output_type": "stream",
          "name": "stdout",
          "text": [
            "Enter a Value: -6\n",
            "Enter new Value: 4\n",
            "Enter new Value: 2\n",
            "Enter new Value: 0\n",
            "[-6, 4, 2]\n"
          ]
        }
      ],
      "source": [
        "L=[]\n",
        "number = int(input(\"Enter a Value: \"))\n",
        "while number != 0:\n",
        "  L.append(number)\n",
        "  number = int(input(\"Enter new Value: \"))\n",
        "print(L)\n",
        "\n",
        "\n"
      ]
    }
  ]
}